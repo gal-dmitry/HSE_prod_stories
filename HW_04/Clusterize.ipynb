{
 "cells": [
  {
   "cell_type": "code",
   "execution_count": 2,
   "id": "2b4bc114",
   "metadata": {},
   "outputs": [],
   "source": [
    "%load_ext autoreload\n",
    "%autoreload 2"
   ]
  },
  {
   "cell_type": "code",
   "execution_count": 3,
   "id": "ed8d3c56",
   "metadata": {},
   "outputs": [],
   "source": [
    "import warnings\n",
    "warnings.filterwarnings('ignore')"
   ]
  },
  {
   "cell_type": "code",
   "execution_count": 79,
   "id": "4215c6e2",
   "metadata": {},
   "outputs": [],
   "source": [
    "import pandas as pd\n",
    "import numpy as np\n",
    "import json\n",
    "import itertools"
   ]
  },
  {
   "cell_type": "code",
   "execution_count": 78,
   "id": "2917ef25",
   "metadata": {},
   "outputs": [],
   "source": [
    "from utils import *"
   ]
  },
  {
   "cell_type": "markdown",
   "id": "564cd635",
   "metadata": {},
   "source": [
    "### Task\n",
    "\n",
    "Наша задача - кластеризовать модели так, чтобы внутри каждого кластера лежали модели только одного класса. Нам априори известно разделение моделей на классы. Из этого следует 2 пункта:\n",
    "\n",
    "- #### metrics\n",
    "\n",
    "Будем оценивать качество кластеризации с помощью **внешней** меры: например, выберем [Индекс Rand](https://scikit-learn.org/stable/modules/generated/sklearn.metrics.rand_score.html#:~:text=The%20Rand%20Index%20computes%20a,the%20predicted%20and%20true%20clusterings.), который принимает значения в [0, 1].\n",
    "\n",
    "- #### algorithm\n",
    "\n",
    "Поскольку нам заранее известно число кластеров, можем выбрать **KMeans** в качестве алгоритма кластеризации.\n",
    "\n",
    "\n",
    "### Pipeline\n",
    "\n",
    "Для решения задачи нам необходимо подобрать функцию расстояния между моделями. Исследуем 2 направления:\n",
    "\n",
    "- #### Distance metric learning\n",
    "- #### Аналитический подход к сравнению 3д моделей"
   ]
  },
  {
   "cell_type": "markdown",
   "id": "1c4ba200",
   "metadata": {},
   "source": [
    "### Labels\n",
    "\n",
    "Посмотрим на распределение моделей по классам"
   ]
  },
  {
   "cell_type": "code",
   "execution_count": 6,
   "id": "6418b31a",
   "metadata": {},
   "outputs": [
    {
     "data": {
      "text/html": [
       "<div>\n",
       "<style scoped>\n",
       "    .dataframe tbody tr th:only-of-type {\n",
       "        vertical-align: middle;\n",
       "    }\n",
       "\n",
       "    .dataframe tbody tr th {\n",
       "        vertical-align: top;\n",
       "    }\n",
       "\n",
       "    .dataframe thead th {\n",
       "        text-align: right;\n",
       "    }\n",
       "</style>\n",
       "<table border=\"1\" class=\"dataframe\">\n",
       "  <thead>\n",
       "    <tr style=\"text-align: right;\">\n",
       "      <th></th>\n",
       "      <th>model</th>\n",
       "      <th>type</th>\n",
       "    </tr>\n",
       "  </thead>\n",
       "  <tbody>\n",
       "    <tr>\n",
       "      <th>0</th>\n",
       "      <td>30a730ca-c466-4e8c-b00b-bf7b317495e2</td>\n",
       "      <td>Cone</td>\n",
       "    </tr>\n",
       "    <tr>\n",
       "      <th>1</th>\n",
       "      <td>1b220e0b-d7fa-40a0-8cfd-930a3228c668</td>\n",
       "      <td>Sphere</td>\n",
       "    </tr>\n",
       "    <tr>\n",
       "      <th>2</th>\n",
       "      <td>347130e7-e4ad-4714-a322-dadd515433f7</td>\n",
       "      <td>Torus</td>\n",
       "    </tr>\n",
       "    <tr>\n",
       "      <th>3</th>\n",
       "      <td>1346fe51-b6f1-4036-a2c4-cdf84abf6c85</td>\n",
       "      <td>Cone</td>\n",
       "    </tr>\n",
       "    <tr>\n",
       "      <th>4</th>\n",
       "      <td>1715abb8-f4e4-4eb3-a030-6c5b0083f1f0</td>\n",
       "      <td>Cylinder</td>\n",
       "    </tr>\n",
       "    <tr>\n",
       "      <th>...</th>\n",
       "      <td>...</td>\n",
       "      <td>...</td>\n",
       "    </tr>\n",
       "    <tr>\n",
       "      <th>2132</th>\n",
       "      <td>136a3a19-9b09-4e4b-8841-facf47b9abc5</td>\n",
       "      <td>Torus</td>\n",
       "    </tr>\n",
       "    <tr>\n",
       "      <th>2133</th>\n",
       "      <td>1e220704-e5d5-4596-864a-2fd3ab48fcbe</td>\n",
       "      <td>Sphere</td>\n",
       "    </tr>\n",
       "    <tr>\n",
       "      <th>2134</th>\n",
       "      <td>14ae3c6a-867e-4814-821b-1993979f4a23</td>\n",
       "      <td>Sphere</td>\n",
       "    </tr>\n",
       "    <tr>\n",
       "      <th>2135</th>\n",
       "      <td>222bdb7d-32e4-4499-988f-b91d0c7018c3</td>\n",
       "      <td>Cone</td>\n",
       "    </tr>\n",
       "    <tr>\n",
       "      <th>2136</th>\n",
       "      <td>255e1024-5967-4247-9de9-b595403f6bc5</td>\n",
       "      <td>Cone</td>\n",
       "    </tr>\n",
       "  </tbody>\n",
       "</table>\n",
       "<p>2137 rows × 2 columns</p>\n",
       "</div>"
      ],
      "text/plain": [
       "                                     model      type\n",
       "0     30a730ca-c466-4e8c-b00b-bf7b317495e2      Cone\n",
       "1     1b220e0b-d7fa-40a0-8cfd-930a3228c668    Sphere\n",
       "2     347130e7-e4ad-4714-a322-dadd515433f7     Torus\n",
       "3     1346fe51-b6f1-4036-a2c4-cdf84abf6c85      Cone\n",
       "4     1715abb8-f4e4-4eb3-a030-6c5b0083f1f0  Cylinder\n",
       "...                                    ...       ...\n",
       "2132  136a3a19-9b09-4e4b-8841-facf47b9abc5     Torus\n",
       "2133  1e220704-e5d5-4596-864a-2fd3ab48fcbe    Sphere\n",
       "2134  14ae3c6a-867e-4814-821b-1993979f4a23    Sphere\n",
       "2135  222bdb7d-32e4-4499-988f-b91d0c7018c3      Cone\n",
       "2136  255e1024-5967-4247-9de9-b595403f6bc5      Cone\n",
       "\n",
       "[2137 rows x 2 columns]"
      ]
     },
     "execution_count": 6,
     "metadata": {},
     "output_type": "execute_result"
    }
   ],
   "source": [
    "labels = pd.read_csv(\"labels_clean.csv\")\n",
    "\n",
    "labels"
   ]
  },
  {
   "cell_type": "code",
   "execution_count": 7,
   "id": "e72c6845",
   "metadata": {},
   "outputs": [
    {
     "data": {
      "image/png": "[encoded data removed]",
      "text/plain": [
       "<Figure size 432x288 with 1 Axes>"
      ]
     },
     "metadata": {
      "needs_background": "light"
     },
     "output_type": "display_data"
    }
   ],
   "source": [
    "types, counts = np.unique(labels.type, return_counts=True)\n",
    "\n",
    "bar_chart(types, counts)"
   ]
  },
  {
   "cell_type": "markdown",
   "id": "a8a30188",
   "metadata": {},
   "source": [
    "### Histograms\n",
    "\n",
    "Каждой модели по имени сопоставим датафрейм из гистограмм: \n",
    "- строка: тип гистограммы (первые 4 типа - основные)\n",
    "- столбец: размерность гистограммы"
   ]
  },
  {
   "cell_type": "code",
   "execution_count": 8,
   "id": "bc7b2803",
   "metadata": {},
   "outputs": [
    {
     "data": {
      "text/html": [
       "<div>\n",
       "<style scoped>\n",
       "    .dataframe tbody tr th:only-of-type {\n",
       "        vertical-align: middle;\n",
       "    }\n",
       "\n",
       "    .dataframe tbody tr th {\n",
       "        vertical-align: top;\n",
       "    }\n",
       "\n",
       "    .dataframe thead th {\n",
       "        text-align: right;\n",
       "    }\n",
       "</style>\n",
       "<table border=\"1\" class=\"dataframe\">\n",
       "  <thead>\n",
       "    <tr style=\"text-align: right;\">\n",
       "      <th></th>\n",
       "      <th>8</th>\n",
       "      <th>16</th>\n",
       "      <th>32</th>\n",
       "      <th>64</th>\n",
       "      <th>128</th>\n",
       "    </tr>\n",
       "  </thead>\n",
       "  <tbody>\n",
       "    <tr>\n",
       "      <th>model_bounding_sphere_strict_outer</th>\n",
       "      <td>[0.02478889563441691, 0.17940145703405266, 0.2...</td>\n",
       "      <td>[0.003225895468844859, 0.02156300016557205, 0....</td>\n",
       "      <td>[8.968486119543021e-05, 0.003136210607649429, ...</td>\n",
       "      <td>[0, 8.968486119543021e-05, 0.00094514046029030...</td>\n",
       "      <td>[0, 0, 0, 8.968486119543021e-05, 0.00043600640...</td>\n",
       "    </tr>\n",
       "    <tr>\n",
       "      <th>model_bounding_sphere_strict_outer_absolute</th>\n",
       "      <td>[0.004952419176552117, 0.035841500533943894, 0...</td>\n",
       "      <td>[0.0006444815782466242, 0.004307937598305493, ...</td>\n",
       "      <td>[1.791758023354601e-05, 0.0006265639980130782,...</td>\n",
       "      <td>[0, 1.791758023354601e-05, 0.00018882373015352...</td>\n",
       "      <td>[0, 0, 0, 1.791758023354601e-05, 8.71070054430...</td>\n",
       "    </tr>\n",
       "    <tr>\n",
       "      <th>model_bounding_sphere_missed</th>\n",
       "      <td>[0, 0, 0.0653525605915613, 0.149977161258053, ...</td>\n",
       "      <td>[0, 0, 0, 0, 0.006309417760204922, 0.059043142...</td>\n",
       "      <td>[0, 0, 0, 0, 0, 0, 0, 0, 0, 0.0063094177602049...</td>\n",
       "      <td>[0, 0, 0, 0, 0, 0, 0, 0, 0, 0, 0, 0, 0, 0, 0, ...</td>\n",
       "      <td>[0, 0, 0, 0, 0, 0, 0, 0, 0, 0, 0, 0, 0, 0, 0, ...</td>\n",
       "    </tr>\n",
       "    <tr>\n",
       "      <th>model_bounding_sphere_concentric_sphere</th>\n",
       "      <td>[0.01962304762956013, 0.09995032838456869, 0.1...</td>\n",
       "      <td>[0.0047243225343562, 0.01489872509520393, 0.02...</td>\n",
       "      <td>[0.0010679397317732767, 0.003656382802582924, ...</td>\n",
       "      <td>[0.0001503946133892599, 0.0009175451183840168,...</td>\n",
       "      <td>[0, 0.0001503946133892599, 0.00039461338925989...</td>\n",
       "    </tr>\n",
       "    <tr>\n",
       "      <th>hull_bounding_sphere_strict_outer</th>\n",
       "      <td>[0.006622334729917468, 0.04830570366424873, 0....</td>\n",
       "      <td>[0.000543624492754419, 0.006078710237163049, 0...</td>\n",
       "      <td>[1.6473469477406637e-05, 0.0005271510232770124...</td>\n",
       "      <td>[0, 1.6473469477406637e-05, 0.0001372789123117...</td>\n",
       "      <td>[0, 0, 0, 1.6473469477406637e-05, 2.7455782462...</td>\n",
       "    </tr>\n",
       "    <tr>\n",
       "      <th>hull_bounding_sphere_strict_outer_absolute</th>\n",
       "      <td>[0.0006648800542048151, 0.004849875486600131, ...</td>\n",
       "      <td>[5.4579705942186307e-05, 0.0006103003482626287...</td>\n",
       "      <td>[1.6539304830965549e-06, 5.2925775459089756e-0...</td>\n",
       "      <td>[0, 1.6539304830965549e-06, 1.3782754025804624...</td>\n",
       "      <td>[0, 0, 0, 1.6539304830965549e-06, 2.7565508051...</td>\n",
       "    </tr>\n",
       "    <tr>\n",
       "      <th>hull_bounding_sphere_missed</th>\n",
       "      <td>[0, 0, 0.058188447985291866, 0.134055461927378...</td>\n",
       "      <td>[0, 0, 0, 0, 0.00561237934732649, 0.0525760686...</td>\n",
       "      <td>[0, 0, 0, 0, 0, 0, 0, 0, 0, 0.0056123793473264...</td>\n",
       "      <td>[0, 0, 0, 0, 0, 0, 0, 0, 0, 0, 0, 0, 0, 0, 0, ...</td>\n",
       "      <td>[0, 0, 0, 0, 0, 0, 0, 0, 0, 0, 0, 0, 0, 0, 0, ...</td>\n",
       "    </tr>\n",
       "    <tr>\n",
       "      <th>hull_bounding_sphere_concentric_sphere</th>\n",
       "      <td>[0.036645232852491064, 0.2136856093261802, 0.2...</td>\n",
       "      <td>[0.0072510721483051545, 0.02939416070418591, 0...</td>\n",
       "      <td>[0, 0.0072510721483051545, 0.01214643816134116...</td>\n",
       "      <td>[0, 0, 0.0030887755270137445, 0.00416229662129...</td>\n",
       "      <td>[0, 0, 0, 0, 0.0013480789189011097, 0.00174069...</td>\n",
       "    </tr>\n",
       "  </tbody>\n",
       "</table>\n",
       "</div>"
      ],
      "text/plain": [
       "                                                                                           8    \\\n",
       "model_bounding_sphere_strict_outer           [0.02478889563441691, 0.17940145703405266, 0.2...   \n",
       "model_bounding_sphere_strict_outer_absolute  [0.004952419176552117, 0.035841500533943894, 0...   \n",
       "model_bounding_sphere_missed                 [0, 0, 0.0653525605915613, 0.149977161258053, ...   \n",
       "model_bounding_sphere_concentric_sphere      [0.01962304762956013, 0.09995032838456869, 0.1...   \n",
       "hull_bounding_sphere_strict_outer            [0.006622334729917468, 0.04830570366424873, 0....   \n",
       "hull_bounding_sphere_strict_outer_absolute   [0.0006648800542048151, 0.004849875486600131, ...   \n",
       "hull_bounding_sphere_missed                  [0, 0, 0.058188447985291866, 0.134055461927378...   \n",
       "hull_bounding_sphere_concentric_sphere       [0.036645232852491064, 0.2136856093261802, 0.2...   \n",
       "\n",
       "                                                                                           16   \\\n",
       "model_bounding_sphere_strict_outer           [0.003225895468844859, 0.02156300016557205, 0....   \n",
       "model_bounding_sphere_strict_outer_absolute  [0.0006444815782466242, 0.004307937598305493, ...   \n",
       "model_bounding_sphere_missed                 [0, 0, 0, 0, 0.006309417760204922, 0.059043142...   \n",
       "model_bounding_sphere_concentric_sphere      [0.0047243225343562, 0.01489872509520393, 0.02...   \n",
       "hull_bounding_sphere_strict_outer            [0.000543624492754419, 0.006078710237163049, 0...   \n",
       "hull_bounding_sphere_strict_outer_absolute   [5.4579705942186307e-05, 0.0006103003482626287...   \n",
       "hull_bounding_sphere_missed                  [0, 0, 0, 0, 0.00561237934732649, 0.0525760686...   \n",
       "hull_bounding_sphere_concentric_sphere       [0.0072510721483051545, 0.02939416070418591, 0...   \n",
       "\n",
       "                                                                                           32   \\\n",
       "model_bounding_sphere_strict_outer           [8.968486119543021e-05, 0.003136210607649429, ...   \n",
       "model_bounding_sphere_strict_outer_absolute  [1.791758023354601e-05, 0.0006265639980130782,...   \n",
       "model_bounding_sphere_missed                 [0, 0, 0, 0, 0, 0, 0, 0, 0, 0.0063094177602049...   \n",
       "model_bounding_sphere_concentric_sphere      [0.0010679397317732767, 0.003656382802582924, ...   \n",
       "hull_bounding_sphere_strict_outer            [1.6473469477406637e-05, 0.0005271510232770124...   \n",
       "hull_bounding_sphere_strict_outer_absolute   [1.6539304830965549e-06, 5.2925775459089756e-0...   \n",
       "hull_bounding_sphere_missed                  [0, 0, 0, 0, 0, 0, 0, 0, 0, 0.0056123793473264...   \n",
       "hull_bounding_sphere_concentric_sphere       [0, 0.0072510721483051545, 0.01214643816134116...   \n",
       "\n",
       "                                                                                           64   \\\n",
       "model_bounding_sphere_strict_outer           [0, 8.968486119543021e-05, 0.00094514046029030...   \n",
       "model_bounding_sphere_strict_outer_absolute  [0, 1.791758023354601e-05, 0.00018882373015352...   \n",
       "model_bounding_sphere_missed                 [0, 0, 0, 0, 0, 0, 0, 0, 0, 0, 0, 0, 0, 0, 0, ...   \n",
       "model_bounding_sphere_concentric_sphere      [0.0001503946133892599, 0.0009175451183840168,...   \n",
       "hull_bounding_sphere_strict_outer            [0, 1.6473469477406637e-05, 0.0001372789123117...   \n",
       "hull_bounding_sphere_strict_outer_absolute   [0, 1.6539304830965549e-06, 1.3782754025804624...   \n",
       "hull_bounding_sphere_missed                  [0, 0, 0, 0, 0, 0, 0, 0, 0, 0, 0, 0, 0, 0, 0, ...   \n",
       "hull_bounding_sphere_concentric_sphere       [0, 0, 0.0030887755270137445, 0.00416229662129...   \n",
       "\n",
       "                                                                                           128  \n",
       "model_bounding_sphere_strict_outer           [0, 0, 0, 8.968486119543021e-05, 0.00043600640...  \n",
       "model_bounding_sphere_strict_outer_absolute  [0, 0, 0, 1.791758023354601e-05, 8.71070054430...  \n",
       "model_bounding_sphere_missed                 [0, 0, 0, 0, 0, 0, 0, 0, 0, 0, 0, 0, 0, 0, 0, ...  \n",
       "model_bounding_sphere_concentric_sphere      [0, 0.0001503946133892599, 0.00039461338925989...  \n",
       "hull_bounding_sphere_strict_outer            [0, 0, 0, 1.6473469477406637e-05, 2.7455782462...  \n",
       "hull_bounding_sphere_strict_outer_absolute   [0, 0, 0, 1.6539304830965549e-06, 2.7565508051...  \n",
       "hull_bounding_sphere_missed                  [0, 0, 0, 0, 0, 0, 0, 0, 0, 0, 0, 0, 0, 0, 0, ...  \n",
       "hull_bounding_sphere_concentric_sphere       [0, 0, 0, 0, 0.0013480789189011097, 0.00174069...  "
      ]
     },
     "execution_count": 8,
     "metadata": {},
     "output_type": "execute_result"
    }
   ],
   "source": [
    "model_names = labels.model\n",
    "hist_path = \"histograms\"\n",
    "dct = get_dct(model_names, hist_path)\n",
    "\n",
    "dct['30a730ca-c466-4e8c-b00b-bf7b317495e2']"
   ]
  },
  {
   "cell_type": "markdown",
   "id": "69202ed8",
   "metadata": {},
   "source": [
    "### Train dataset\n",
    "\n",
    "Сформируем тренировочный датасет - каждой модели сопоставим:\n",
    "- реальный класс\n",
    "- вектор гистограмм, с помощью которых будем измерять расстояние между моделями\n",
    "      \n",
    "Вектор гистограм можно сформировать 2-мя способами:\n",
    "\n",
    "- ```_type='concatenate_all'``` - конкатенирует все гистограммы с размером ```_intervals```\n",
    "- ```_type='analytic'``` - 2-мерная матрица, каждая строка которой - гистограмма размера ```_intervals``` одного из восьми возможных типов. То, какие именно выбрать типы, можно задать с помощью параметра ```idx```"
   ]
  },
  {
   "cell_type": "code",
   "execution_count": 10,
   "id": "abc344b3",
   "metadata": {},
   "outputs": [
    {
     "data": {
      "text/html": [
       "<div>\n",
       "<style scoped>\n",
       "    .dataframe tbody tr th:only-of-type {\n",
       "        vertical-align: middle;\n",
       "    }\n",
       "\n",
       "    .dataframe tbody tr th {\n",
       "        vertical-align: top;\n",
       "    }\n",
       "\n",
       "    .dataframe thead th {\n",
       "        text-align: right;\n",
       "    }\n",
       "</style>\n",
       "<table border=\"1\" class=\"dataframe\">\n",
       "  <thead>\n",
       "    <tr style=\"text-align: right;\">\n",
       "      <th></th>\n",
       "      <th>model</th>\n",
       "      <th>type</th>\n",
       "      <th>vectors</th>\n",
       "    </tr>\n",
       "  </thead>\n",
       "  <tbody>\n",
       "    <tr>\n",
       "      <th>0</th>\n",
       "      <td>30a730ca-c466-4e8c-b00b-bf7b317495e2</td>\n",
       "      <td>Cone</td>\n",
       "      <td>[0.0, 0.0, 0.0, 8.968486119543021e-05, 0.00043...</td>\n",
       "    </tr>\n",
       "    <tr>\n",
       "      <th>1</th>\n",
       "      <td>1b220e0b-d7fa-40a0-8cfd-930a3228c668</td>\n",
       "      <td>Sphere</td>\n",
       "      <td>[0.0, 0.0, 0.0, 0.0012413227249569968, 0.00642...</td>\n",
       "    </tr>\n",
       "    <tr>\n",
       "      <th>2</th>\n",
       "      <td>347130e7-e4ad-4714-a322-dadd515433f7</td>\n",
       "      <td>Torus</td>\n",
       "      <td>[0.0, 0.0, 0.0, 0.0017943360086115465, 0.00786...</td>\n",
       "    </tr>\n",
       "    <tr>\n",
       "      <th>3</th>\n",
       "      <td>1346fe51-b6f1-4036-a2c4-cdf84abf6c85</td>\n",
       "      <td>Cone</td>\n",
       "      <td>[0.0, 0.0, 0.0, 1.4641538532869035e-05, 0.0002...</td>\n",
       "    </tr>\n",
       "    <tr>\n",
       "      <th>4</th>\n",
       "      <td>1715abb8-f4e4-4eb3-a030-6c5b0083f1f0</td>\n",
       "      <td>Cylinder</td>\n",
       "      <td>[0.0, 0.0, 0.0, 6.890738526920353e-05, 0.00048...</td>\n",
       "    </tr>\n",
       "    <tr>\n",
       "      <th>...</th>\n",
       "      <td>...</td>\n",
       "      <td>...</td>\n",
       "      <td>...</td>\n",
       "    </tr>\n",
       "    <tr>\n",
       "      <th>2132</th>\n",
       "      <td>136a3a19-9b09-4e4b-8841-facf47b9abc5</td>\n",
       "      <td>Torus</td>\n",
       "      <td>[0.0, 0.0, 0.0, 3.915937867119175e-05, 0.00187...</td>\n",
       "    </tr>\n",
       "    <tr>\n",
       "      <th>2133</th>\n",
       "      <td>1e220704-e5d5-4596-864a-2fd3ab48fcbe</td>\n",
       "      <td>Sphere</td>\n",
       "      <td>[0.0, 0.0, 0.0, 0.003804431815147658, 0.020577...</td>\n",
       "    </tr>\n",
       "    <tr>\n",
       "      <th>2134</th>\n",
       "      <td>14ae3c6a-867e-4814-821b-1993979f4a23</td>\n",
       "      <td>Sphere</td>\n",
       "      <td>[0.0, 0.0, 0.0, 0.001404506572808666, 0.006497...</td>\n",
       "    </tr>\n",
       "    <tr>\n",
       "      <th>2135</th>\n",
       "      <td>222bdb7d-32e4-4499-988f-b91d0c7018c3</td>\n",
       "      <td>Cone</td>\n",
       "      <td>[0.0, 0.0, 0.0, 0.00019669353637874622, 0.0010...</td>\n",
       "    </tr>\n",
       "    <tr>\n",
       "      <th>2136</th>\n",
       "      <td>255e1024-5967-4247-9de9-b595403f6bc5</td>\n",
       "      <td>Cone</td>\n",
       "      <td>[0.0, 0.0, 0.0, 0.0, 4.628086933984968e-06, 3....</td>\n",
       "    </tr>\n",
       "  </tbody>\n",
       "</table>\n",
       "<p>2137 rows × 3 columns</p>\n",
       "</div>"
      ],
      "text/plain": [
       "                                     model      type  \\\n",
       "0     30a730ca-c466-4e8c-b00b-bf7b317495e2      Cone   \n",
       "1     1b220e0b-d7fa-40a0-8cfd-930a3228c668    Sphere   \n",
       "2     347130e7-e4ad-4714-a322-dadd515433f7     Torus   \n",
       "3     1346fe51-b6f1-4036-a2c4-cdf84abf6c85      Cone   \n",
       "4     1715abb8-f4e4-4eb3-a030-6c5b0083f1f0  Cylinder   \n",
       "...                                    ...       ...   \n",
       "2132  136a3a19-9b09-4e4b-8841-facf47b9abc5     Torus   \n",
       "2133  1e220704-e5d5-4596-864a-2fd3ab48fcbe    Sphere   \n",
       "2134  14ae3c6a-867e-4814-821b-1993979f4a23    Sphere   \n",
       "2135  222bdb7d-32e4-4499-988f-b91d0c7018c3      Cone   \n",
       "2136  255e1024-5967-4247-9de9-b595403f6bc5      Cone   \n",
       "\n",
       "                                                vectors  \n",
       "0     [0.0, 0.0, 0.0, 8.968486119543021e-05, 0.00043...  \n",
       "1     [0.0, 0.0, 0.0, 0.0012413227249569968, 0.00642...  \n",
       "2     [0.0, 0.0, 0.0, 0.0017943360086115465, 0.00786...  \n",
       "3     [0.0, 0.0, 0.0, 1.4641538532869035e-05, 0.0002...  \n",
       "4     [0.0, 0.0, 0.0, 6.890738526920353e-05, 0.00048...  \n",
       "...                                                 ...  \n",
       "2132  [0.0, 0.0, 0.0, 3.915937867119175e-05, 0.00187...  \n",
       "2133  [0.0, 0.0, 0.0, 0.003804431815147658, 0.020577...  \n",
       "2134  [0.0, 0.0, 0.0, 0.001404506572808666, 0.006497...  \n",
       "2135  [0.0, 0.0, 0.0, 0.00019669353637874622, 0.0010...  \n",
       "2136  [0.0, 0.0, 0.0, 0.0, 4.628086933984968e-06, 3....  \n",
       "\n",
       "[2137 rows x 3 columns]"
      ]
     },
     "execution_count": 10,
     "metadata": {},
     "output_type": "execute_result"
    }
   ],
   "source": [
    "train_df = form_dataset(dct, labels, _type='concatenate_all', _intervals=128)\n",
    "\n",
    "train_df"
   ]
  },
  {
   "cell_type": "markdown",
   "id": "8667dde9",
   "metadata": {},
   "source": [
    "### [Distance metric learning](http://contrib.scikit-learn.org/metric-learn/supervised.html)"
   ]
  },
  {
   "cell_type": "code",
   "execution_count": 68,
   "id": "154e7b23",
   "metadata": {},
   "outputs": [],
   "source": [
    "from metric_learn import NCA, LMNN, MLKR"
   ]
  },
  {
   "cell_type": "markdown",
   "id": "f341e55c",
   "metadata": {},
   "source": [
    "Выберем лучшую модель на пробной гистограмме длины 8 (для большей скорости подсчета)"
   ]
  },
  {
   "cell_type": "code",
   "execution_count": 70,
   "id": "d7d73e29",
   "metadata": {},
   "outputs": [
    {
     "name": "stdout",
     "output_type": "stream",
     "text": [
      "learner: NCA | histogram intervals: 8\n",
      "Rand index: 0.703289991394706\n",
      "\n",
      "\n",
      "learner: MLKR | histogram intervals: 8\n",
      "Rand index: 0.6807107341840481\n",
      "\n",
      "\n",
      "learner: LMNN | histogram intervals: 8\n",
      "Rand index: 0.694790730118003\n",
      "\n",
      "\n"
     ]
    }
   ],
   "source": [
    "intervals = [8]\n",
    "dist_learners = [NCA, MLKR, LMNN]\n",
    "\n",
    "best_search_dist_learn(intervals, dist_learners, dct, labels)"
   ]
  },
  {
   "cell_type": "markdown",
   "id": "a90ff0e0",
   "metadata": {},
   "source": [
    "Выберем лучшую гистограмму для данной модели"
   ]
  },
  {
   "cell_type": "code",
   "execution_count": 71,
   "id": "25e6e772",
   "metadata": {},
   "outputs": [
    {
     "name": "stdout",
     "output_type": "stream",
     "text": [
      "learner: NCA | histogram intervals: 8\n",
      "Rand index: 0.703289991394706\n",
      "\n",
      "learner: NCA | histogram intervals: 16\n",
      "Rand index: 0.6749744557721192\n",
      "\n",
      "learner: NCA | histogram intervals: 32\n",
      "Rand index: 0.685951463338118\n",
      "\n",
      "learner: NCA | histogram intervals: 64\n",
      "Rand index: 0.690008307350954\n",
      "\n",
      "learner: NCA | histogram intervals: 128\n",
      "Rand index: 0.6897274522896917\n",
      "\n",
      "\n"
     ]
    }
   ],
   "source": [
    "_intervals = [8, 16, 32, 64, 128]\n",
    "_dist_learners = [NCA]\n",
    "\n",
    "best_search_dist_learn(_intervals, _dist_learners, dct, labels)"
   ]
  },
  {
   "cell_type": "markdown",
   "id": "7af9fb3b",
   "metadata": {},
   "source": [
    "Лучший результат получается на гистограммах размера 8 с алгоритмом NCA. Посмотрим на распределение классов по кластерам"
   ]
  },
  {
   "cell_type": "code",
   "execution_count": 100,
   "id": "4e4f9d2b",
   "metadata": {
    "scrolled": false
   },
   "outputs": [
    {
     "name": "stdout",
     "output_type": "stream",
     "text": [
      "--- cluster: 0 ---\n"
     ]
    },
    {
     "data": {
      "image/png": "[encoded data removed]",
      "text/plain": [
       "<Figure size 432x288 with 1 Axes>"
      ]
     },
     "metadata": {
      "needs_background": "light"
     },
     "output_type": "display_data"
    },
    {
     "name": "stdout",
     "output_type": "stream",
     "text": [
      "--- cluster: 1 ---\n"
     ]
    },
    {
     "data": {
      "image/png": "[encoded data removed]",
      "text/plain": [
       "<Figure size 432x288 with 1 Axes>"
      ]
     },
     "metadata": {
      "needs_background": "light"
     },
     "output_type": "display_data"
    },
    {
     "name": "stdout",
     "output_type": "stream",
     "text": [
      "--- cluster: 2 ---\n"
     ]
    },
    {
     "data": {
      "image/png": "[encoded data removed]",
      "text/plain": [
       "<Figure size 432x288 with 1 Axes>"
      ]
     },
     "metadata": {
      "needs_background": "light"
     },
     "output_type": "display_data"
    },
    {
     "name": "stdout",
     "output_type": "stream",
     "text": [
      "--- cluster: 3 ---\n"
     ]
    },
    {
     "data": {
      "image/png": "[encoded data removed]",
      "text/plain": [
       "<Figure size 432x288 with 1 Axes>"
      ]
     },
     "metadata": {
      "needs_background": "light"
     },
     "output_type": "display_data"
    },
    {
     "name": "stdout",
     "output_type": "stream",
     "text": [
      "--- cluster: 4 ---\n"
     ]
    },
    {
     "data": {
      "image/png": "[encoded data removed]",
      "text/plain": [
       "<Figure size 432x288 with 1 Axes>"
      ]
     },
     "metadata": {
      "needs_background": "light"
     },
     "output_type": "display_data"
    },
    {
     "name": "stdout",
     "output_type": "stream",
     "text": [
      "Rand index: 0.703289991394706\n",
      "\n"
     ]
    }
   ],
   "source": [
    "train_df = form_dataset(dct, labels, _type='concatenate_all', _intervals=8)\n",
    "learner = NCA\n",
    "\n",
    "dist_learn_df = clusterize_dist_learn(train_df, learner, bar=True)"
   ]
  },
  {
   "cell_type": "markdown",
   "id": "d7190766",
   "metadata": {},
   "source": [
    "Как видно, получилось выделить только 1 относительно чистый кластер с доминирующим типом \"Cone\""
   ]
  },
  {
   "cell_type": "code",
   "execution_count": 101,
   "id": "d9336d4c",
   "metadata": {},
   "outputs": [
    {
     "data": {
      "image/png": "[encoded data removed]",
      "text/plain": [
       "<Figure size 720x720 with 1 Axes>"
      ]
     },
     "metadata": {
      "needs_background": "light"
     },
     "output_type": "display_data"
    }
   ],
   "source": [
    "show_clusters(dist_learn_df, mode=\"TSNE\")"
   ]
  },
  {
   "cell_type": "markdown",
   "id": "8931b8db",
   "metadata": {},
   "source": [
    "### Analytic distance"
   ]
  },
  {
   "cell_type": "markdown",
   "id": "1777c61a",
   "metadata": {},
   "source": [
    "Попробуем сравнить результаты для следующих гиперпараметров (везде размер гистограммы = 8):\n",
    "    \n",
    "    \n",
    "- все 8 типов гистограмм\n",
    "\n",
    "- первые 4 типа гистограмм\n",
    "- последние 4 типа гистограмм\n",
    "\n",
    "\n",
    "- все подвыборки из первых 4х типов гистограмм \n",
    "- все подвыборки из последних 4х типов гистограмм "
   ]
  },
  {
   "cell_type": "code",
   "execution_count": 95,
   "id": "38b967eb",
   "metadata": {},
   "outputs": [
    {
     "name": "stdout",
     "output_type": "stream",
     "text": [
      "[array([0, 1, 2, 3, 4, 5, 6, 7]), array([0, 1, 2, 3]), array([4, 5, 6, 7]), array([0]), array([1]), array([2]), array([0, 1]), array([0, 2]), array([1, 2]), array([0, 1, 2]), array([3]), array([4]), array([5]), array([3, 4]), array([3, 5]), array([4, 5]), array([3, 4, 5])]\n",
      "\n",
      "idx: [0 1 2 3 4 5 6 7] | histogram intervals: 8 | coeffs: [0.125, 0.125, 0.125, 0.125, 0.125, 0.125, 0.125, 0.125]\n",
      "Rand index: 0.6664694985269349\n",
      "\n",
      "\n",
      "idx: [0 1 2 3] | histogram intervals: 8 | coeffs: [0.25, 0.25, 0.25, 0.25]\n",
      "Rand index: 0.6897953657600437\n",
      "\n",
      "\n",
      "idx: [4 5 6 7] | histogram intervals: 8 | coeffs: [0.25, 0.25, 0.25, 0.25]\n",
      "Rand index: 0.6660291563482007\n",
      "\n",
      "\n",
      "idx: [0] | histogram intervals: 8 | coeffs: [1.0]\n",
      "Rand index: 0.6810095534535971\n",
      "\n",
      "\n",
      "idx: [1] | histogram intervals: 8 | coeffs: [1.0]\n",
      "Rand index: 0.6856855054251909\n",
      "\n",
      "\n",
      "idx: [2] | histogram intervals: 8 | coeffs: [1.0]\n",
      "Rand index: 0.6653565939160047\n",
      "\n",
      "\n",
      "idx: [0 1] | histogram intervals: 8 | coeffs: [0.5, 0.5]\n",
      "Rand index: 0.6844586814446378\n",
      "\n",
      "\n",
      "idx: [0 2] | histogram intervals: 8 | coeffs: [0.5, 0.5]\n",
      "Rand index: 0.6853468143762739\n",
      "\n",
      "\n",
      "idx: [1 2] | histogram intervals: 8 | coeffs: [0.5, 0.5]\n",
      "Rand index: 0.6639155138902764\n",
      "\n",
      "\n",
      "idx: [0 1 2] | histogram intervals: 8 | coeffs: [0.3333333333333333, 0.3333333333333333, 0.3333333333333333]\n",
      "Rand index: 0.6921854817650142\n",
      "\n",
      "\n",
      "idx: [3] | histogram intervals: 8 | coeffs: [1.0]\n",
      "Rand index: 0.6718819830382822\n",
      "\n",
      "\n",
      "idx: [4] | histogram intervals: 8 | coeffs: [1.0]\n",
      "Rand index: 0.6695058878788038\n",
      "\n",
      "\n",
      "idx: [5] | histogram intervals: 8 | coeffs: [1.0]\n",
      "Rand index: 0.6860798417046544\n",
      "\n",
      "\n",
      "idx: [3 4] | histogram intervals: 8 | coeffs: [0.5, 0.5]\n",
      "Rand index: 0.6900652670357654\n",
      "\n",
      "\n",
      "idx: [3 5] | histogram intervals: 8 | coeffs: [0.5, 0.5]\n",
      "Rand index: 0.6663525120973608\n",
      "\n",
      "\n",
      "idx: [4 5] | histogram intervals: 8 | coeffs: [0.5, 0.5]\n",
      "Rand index: 0.6722741285606375\n",
      "\n",
      "\n",
      "idx: [3 4 5] | histogram intervals: 8 | coeffs: [0.3333333333333333, 0.3333333333333333, 0.3333333333333333]\n",
      "Rand index: 0.6649052979517297\n",
      "\n",
      "\n"
     ]
    }
   ],
   "source": [
    "intervals_ = [8]\n",
    "\n",
    "idx_ = [np.linspace(0, 7, 8, dtype=int),\n",
    "        np.linspace(0, 3, 4, dtype=int), \n",
    "        np.linspace(4, 7, 4, dtype=int)]\n",
    "\n",
    "for k in range(1, 4):\n",
    "    idx_.extend(C(4, k))\n",
    "    \n",
    "for k in range(1, 4):\n",
    "    idx_.extend(C(4, k) + 3)\n",
    "    \n",
    "print(idx_)\n",
    "print()\n",
    "\n",
    "best_search_analytic(intervals_, idx_, dct, labels)"
   ]
  },
  {
   "cell_type": "markdown",
   "id": "80902cf3",
   "metadata": {},
   "source": [
    "Выберем лучший размер гистограммы для данной комбинации фичей"
   ]
  },
  {
   "cell_type": "code",
   "execution_count": 96,
   "id": "b3d231d4",
   "metadata": {},
   "outputs": [
    {
     "name": "stdout",
     "output_type": "stream",
     "text": [
      "idx: [0 1 2] | histogram intervals: 8 | coeffs: [0.3333333333333333, 0.3333333333333333, 0.3333333333333333]\n",
      "Rand index: 0.6921854817650142\n",
      "\n",
      "idx: [0 1 2] | histogram intervals: 16 | coeffs: [0.3333333333333333, 0.3333333333333333, 0.3333333333333333]\n",
      "Rand index: 0.691052422188689\n",
      "\n",
      "idx: [0 1 2] | histogram intervals: 32 | coeffs: [0.3333333333333333, 0.3333333333333333, 0.3333333333333333]\n",
      "Rand index: 0.6904644229808669\n",
      "\n",
      "idx: [0 1 2] | histogram intervals: 64 | coeffs: [0.3333333333333333, 0.3333333333333333, 0.3333333333333333]\n",
      "Rand index: 0.6923769539362647\n",
      "\n",
      "idx: [0 1 2] | histogram intervals: 128 | coeffs: [0.3333333333333333, 0.3333333333333333, 0.3333333333333333]\n",
      "Rand index: 0.6923331387941021\n",
      "\n",
      "\n"
     ]
    }
   ],
   "source": [
    "_intervals_ = [8, 16, 32, 64, 128]\n",
    "_idx_ = [np.array([0, 1, 2])]\n",
    "\n",
    "best_search_analytic(_intervals_, _idx_, dct, labels)"
   ]
  },
  {
   "cell_type": "markdown",
   "id": "5c9172b8",
   "metadata": {},
   "source": [
    "Лучший результат получается на гистограммах размера 64 с гистограммами [0, 1, 2], то есть:\n",
    "\n",
    "- ```model_bounding_sphere_strict_outer```\n",
    "- ```model_bounding_sphere_strict_outer_absolute```\n",
    "- ```model_bounding_sphere_missed```\n",
    "\n",
    "Посмотрим на распределение классов по кластерам"
   ]
  },
  {
   "cell_type": "code",
   "execution_count": 98,
   "id": "f858e647",
   "metadata": {},
   "outputs": [
    {
     "name": "stdout",
     "output_type": "stream",
     "text": [
      "--- cluster: 0 ---\n"
     ]
    },
    {
     "data": {
      "image/png": "[encoded data removed]",
      "text/plain": [
       "<Figure size 432x288 with 1 Axes>"
      ]
     },
     "metadata": {
      "needs_background": "light"
     },
     "output_type": "display_data"
    },
    {
     "name": "stdout",
     "output_type": "stream",
     "text": [
      "--- cluster: 1 ---\n"
     ]
    },
    {
     "data": {
      "image/png": "[encoded data removed]",
      "text/plain": [
       "<Figure size 432x288 with 1 Axes>"
      ]
     },
     "metadata": {
      "needs_background": "light"
     },
     "output_type": "display_data"
    },
    {
     "name": "stdout",
     "output_type": "stream",
     "text": [
      "--- cluster: 2 ---\n"
     ]
    },
    {
     "data": {
      "image/png": "[encoded data removed]",
      "text/plain": [
       "<Figure size 432x288 with 1 Axes>"
      ]
     },
     "metadata": {
      "needs_background": "light"
     },
     "output_type": "display_data"
    },
    {
     "name": "stdout",
     "output_type": "stream",
     "text": [
      "--- cluster: 3 ---\n"
     ]
    },
    {
     "data": {
      "image/png": "[encoded data removed]",
      "text/plain": [
       "<Figure size 432x288 with 1 Axes>"
      ]
     },
     "metadata": {
      "needs_background": "light"
     },
     "output_type": "display_data"
    },
    {
     "name": "stdout",
     "output_type": "stream",
     "text": [
      "--- cluster: 4 ---\n"
     ]
    },
    {
     "data": {
      "image/png": "[encoded data removed]",
      "text/plain": [
       "<Figure size 432x288 with 1 Axes>"
      ]
     },
     "metadata": {
      "needs_background": "light"
     },
     "output_type": "display_data"
    },
    {
     "name": "stdout",
     "output_type": "stream",
     "text": [
      "Rand index: 0.6923769539362647\n",
      "\n"
     ]
    }
   ],
   "source": [
    "_train_df_ = form_dataset(dct, labels, _type='analytic', idx=[0, 1, 2], _intervals=64)\n",
    "_coefs_ = np.array([1/3, 1/3, 1/3])\n",
    "cust_distance = AnalyticDistance(_coefs_)\n",
    "\n",
    "analytic_df = clusterize_analytic(_train_df_, cust_distance, bar=True)"
   ]
  },
  {
   "cell_type": "markdown",
   "id": "96157997",
   "metadata": {},
   "source": [
    "Результат аналогичен предыдущему: только один относительно чистый кластер с доминирующим типом \"Torus\""
   ]
  },
  {
   "cell_type": "markdown",
   "id": "b031ba94",
   "metadata": {},
   "source": [
    "### Discussion\n",
    "\n",
    "Кластеризация с помощью distance metric learning и с помощью аналитического подхода дает сравнимые результаты. Внешнее качество кластеризации, измеренное с помощью индекса Rand, равно ~0.70 и ~0.69 соответственно. Распределение классов по кластерам оставляет желать лучшего."
   ]
  },
  {
   "cell_type": "code",
   "execution_count": null,
   "id": "2d09c069",
   "metadata": {},
   "outputs": [],
   "source": []
  }
 ],
 "metadata": {
  "kernelspec": {
   "display_name": "Python 3 (ipykernel)",
   "language": "python",
   "name": "python3"
  },
  "language_info": {
   "codemirror_mode": {
    "name": "ipython",
    "version": 3
   },
   "file_extension": ".py",
   "mimetype": "text/x-python",
   "name": "python",
   "nbconvert_exporter": "python",
   "pygments_lexer": "ipython3",
   "version": "3.8.12"
  }
 },
 "nbformat": 4,
 "nbformat_minor": 5
}
