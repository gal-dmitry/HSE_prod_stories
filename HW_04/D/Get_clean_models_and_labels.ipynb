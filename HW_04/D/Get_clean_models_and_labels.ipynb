{
 "cells": [
  {
   "cell_type": "code",
   "execution_count": 1,
   "id": "4046e1a4",
   "metadata": {},
   "outputs": [],
   "source": [
    "import os, os.path\n",
    "import pandas as pd\n",
    "import json"
   ]
  },
  {
   "cell_type": "code",
   "execution_count": 2,
   "id": "3d38038c",
   "metadata": {},
   "outputs": [],
   "source": [
    "def get_names(path):\n",
    "    return [name for name in os.listdir(path) if os.path.isfile(os.path.join(path, name))]"
   ]
  },
  {
   "cell_type": "code",
   "execution_count": 3,
   "id": "7aac6654",
   "metadata": {},
   "outputs": [],
   "source": [
    "def process_df(df, clean_histograms):\n",
    "    clean_df = df[df.model.isin(clean_histograms)] \n",
    "    serie = pd.DataFrame(clean_df.type.apply(lambda x: x.split('.')[0]))\n",
    "    clean_df.pop('type')\n",
    "    return pd.concat([clean_df, serie], axis=1)"
   ]
  },
  {
   "cell_type": "code",
   "execution_count": 4,
   "id": "1af59f58",
   "metadata": {},
   "outputs": [],
   "source": [
    "models_path = 'models'\n",
    "histograms_path = 'histograms'"
   ]
  },
  {
   "cell_type": "code",
   "execution_count": 5,
   "id": "0135d18c",
   "metadata": {},
   "outputs": [
    {
     "data": {
      "text/plain": [
       "['6f284edb-aad7-4177-8b34-47558216c76f.stl',\n",
       " 'a4aa7936-4c4e-4a56-bcaa-242ec4c876c8.stl',\n",
       " 'b8cc7127-26c1-48a6-a980-ffd31b8c6442.stl',\n",
       " '39ecf69c-0139-4367-99d3-9d52d104236a.stl',\n",
       " '7ddfa22c-b938-46ef-9e22-f55b72c680ac.stl',\n",
       " '703d1136-08d1-4adf-bae1-6d47f1b86e1b.stl',\n",
       " '88433f18-380d-4631-b349-7f4a55e3e1eb.stl',\n",
       " '0e5c131d-0824-408b-b93a-4dcaa40c2c0a.stl',\n",
       " '23d777c5-0efd-4303-be04-d83761550eee.stl',\n",
       " 'f8a74137-feee-437f-bae6-5d4831111eb2.stl']"
      ]
     },
     "execution_count": 5,
     "metadata": {},
     "output_type": "execute_result"
    }
   ],
   "source": [
    "models_names = get_names(models_path)\n",
    "models_names[:10]"
   ]
  },
  {
   "cell_type": "code",
   "execution_count": 6,
   "id": "7531d28d",
   "metadata": {},
   "outputs": [
    {
     "data": {
      "text/plain": [
       "['118f6321-4e9c-42d6-837a-9e713a3a4c88.json',\n",
       " '1c345b16-d820-4b3d-b68b-98b6d6a314c0.json',\n",
       " '1fc8b261-6415-40a2-8559-3b92ed284036.json',\n",
       " '2b63d944-6efb-4907-9245-0dd6147f3338.json',\n",
       " '170c33c2-946f-4b1b-ac60-abecf524203a.json',\n",
       " '09469744-9517-46b0-bc5b-b0e4f1b0a3be.json',\n",
       " '071c7c20-4ab2-441d-bc67-c07e6b1ccf94.json',\n",
       " '11f99e6d-4219-4068-a76c-925a6d3ee8c4.json',\n",
       " '2c38df05-05d5-42a6-b5b5-2469b038b270.json',\n",
       " '09470f5e-b76f-4c10-bc81-1683e1b5134e.json']"
      ]
     },
     "execution_count": 6,
     "metadata": {},
     "output_type": "execute_result"
    }
   ],
   "source": [
    "histograms_names = get_names(histograms_path)\n",
    "histograms_names[:10]"
   ]
  },
  {
   "cell_type": "code",
   "execution_count": 7,
   "id": "9bef83d5",
   "metadata": {},
   "outputs": [
    {
     "data": {
      "text/plain": [
       "['118f6321-4e9c-42d6-837a-9e713a3a4c88',\n",
       " '1c345b16-d820-4b3d-b68b-98b6d6a314c0',\n",
       " '1fc8b261-6415-40a2-8559-3b92ed284036',\n",
       " '2b63d944-6efb-4907-9245-0dd6147f3338',\n",
       " '170c33c2-946f-4b1b-ac60-abecf524203a',\n",
       " '09469744-9517-46b0-bc5b-b0e4f1b0a3be',\n",
       " '071c7c20-4ab2-441d-bc67-c07e6b1ccf94',\n",
       " '11f99e6d-4219-4068-a76c-925a6d3ee8c4',\n",
       " '2c38df05-05d5-42a6-b5b5-2469b038b270',\n",
       " '09470f5e-b76f-4c10-bc81-1683e1b5134e']"
      ]
     },
     "execution_count": 7,
     "metadata": {},
     "output_type": "execute_result"
    }
   ],
   "source": [
    "clean_histograms = [name.split('.')[0] for name in histograms_names]\n",
    "clean_histograms[:10]"
   ]
  },
  {
   "cell_type": "code",
   "execution_count": 8,
   "id": "d5ea3e20",
   "metadata": {},
   "outputs": [
    {
     "data": {
      "text/plain": [
       "['0e5c131d-0824-408b-b93a-4dcaa40c2c0a.stl',\n",
       " '23d777c5-0efd-4303-be04-d83761550eee.stl',\n",
       " '319a8dd3-dc5d-4516-b3f0-06da9ddd4908.stl',\n",
       " '0b72c5a6-58e4-48ed-aafc-082186b23a8e.stl',\n",
       " '2039b446-a596-4bcd-80c9-f7a2b34dedb0.stl',\n",
       " '10e288de-0298-4e75-97a3-5ab5ae53d949.stl',\n",
       " '09470f5e-b76f-4c10-bc81-1683e1b5134e.stl',\n",
       " '1616f21b-03c4-403c-8523-c6fa0cc669b5.stl',\n",
       " '06b82c04-f6f4-4e86-af01-6c0783cf34e6.stl',\n",
       " '038658d9-dd86-4737-bb36-6d3c94044333.stl']"
      ]
     },
     "execution_count": 8,
     "metadata": {},
     "output_type": "execute_result"
    }
   ],
   "source": [
    "choosen_models = [name for name in models_names if name.split('.')[0] in clean_histograms]\n",
    "choosen_models[:10]"
   ]
  },
  {
   "cell_type": "code",
   "execution_count": 9,
   "id": "0383feb4",
   "metadata": {},
   "outputs": [
    {
     "data": {
      "text/plain": [
       "2137"
      ]
     },
     "execution_count": 9,
     "metadata": {},
     "output_type": "execute_result"
    }
   ],
   "source": [
    "len(choosen_models)"
   ]
  },
  {
   "cell_type": "markdown",
   "id": "6ff81ce0",
   "metadata": {},
   "source": [
    "#### clean "
   ]
  },
  {
   "cell_type": "code",
   "execution_count": 12,
   "id": "5778c3b6",
   "metadata": {},
   "outputs": [
    {
     "name": "stdout",
     "output_type": "stream",
     "text": [
      "/home/galdmitry/CODE_REPOS/HSE_prod_stories/HW_04/D\r\n"
     ]
    }
   ],
   "source": [
    "!pwd"
   ]
  },
  {
   "cell_type": "code",
   "execution_count": 10,
   "id": "e9c5ddfe",
   "metadata": {},
   "outputs": [],
   "source": [
    "def remove_models(path, choosen_models):\n",
    "    files =  os.listdir(path)\n",
    "    print(f\"files before removing: {len(files)}\")\n",
    "    \n",
    "    for name in files:\n",
    "        if name not in choosen_models:\n",
    "            os.remove(f\"{path}/{name}\")\n",
    "            \n",
    "    print(f\"files after removing: {len(os.listdir(path))}\")"
   ]
  },
  {
   "cell_type": "code",
   "execution_count": 13,
   "id": "7773d99b",
   "metadata": {},
   "outputs": [
    {
     "name": "stdout",
     "output_type": "stream",
     "text": [
      "files before removing: 2137\n",
      "files after removing: 2137\n"
     ]
    }
   ],
   "source": [
    "remove_models(\"models_clean\", choosen_models)"
   ]
  },
  {
   "cell_type": "code",
   "execution_count": 14,
   "id": "84379946",
   "metadata": {},
   "outputs": [
    {
     "data": {
      "text/html": [
       "<div>\n",
       "<style scoped>\n",
       "    .dataframe tbody tr th:only-of-type {\n",
       "        vertical-align: middle;\n",
       "    }\n",
       "\n",
       "    .dataframe tbody tr th {\n",
       "        vertical-align: top;\n",
       "    }\n",
       "\n",
       "    .dataframe thead th {\n",
       "        text-align: right;\n",
       "    }\n",
       "</style>\n",
       "<table border=\"1\" class=\"dataframe\">\n",
       "  <thead>\n",
       "    <tr style=\"text-align: right;\">\n",
       "      <th></th>\n",
       "      <th>model</th>\n",
       "      <th>type</th>\n",
       "    </tr>\n",
       "  </thead>\n",
       "  <tbody>\n",
       "    <tr>\n",
       "      <th>1</th>\n",
       "      <td>30a730ca-c466-4e8c-b00b-bf7b317495e2</td>\n",
       "      <td>Cone</td>\n",
       "    </tr>\n",
       "    <tr>\n",
       "      <th>7</th>\n",
       "      <td>1b220e0b-d7fa-40a0-8cfd-930a3228c668</td>\n",
       "      <td>Sphere</td>\n",
       "    </tr>\n",
       "    <tr>\n",
       "      <th>12</th>\n",
       "      <td>347130e7-e4ad-4714-a322-dadd515433f7</td>\n",
       "      <td>Torus</td>\n",
       "    </tr>\n",
       "    <tr>\n",
       "      <th>17</th>\n",
       "      <td>1346fe51-b6f1-4036-a2c4-cdf84abf6c85</td>\n",
       "      <td>Cone</td>\n",
       "    </tr>\n",
       "    <tr>\n",
       "      <th>19</th>\n",
       "      <td>1715abb8-f4e4-4eb3-a030-6c5b0083f1f0</td>\n",
       "      <td>Cylinder</td>\n",
       "    </tr>\n",
       "  </tbody>\n",
       "</table>\n",
       "</div>"
      ],
      "text/plain": [
       "                                   model      type\n",
       "1   30a730ca-c466-4e8c-b00b-bf7b317495e2      Cone\n",
       "7   1b220e0b-d7fa-40a0-8cfd-930a3228c668    Sphere\n",
       "12  347130e7-e4ad-4714-a322-dadd515433f7     Torus\n",
       "17  1346fe51-b6f1-4036-a2c4-cdf84abf6c85      Cone\n",
       "19  1715abb8-f4e4-4eb3-a030-6c5b0083f1f0  Cylinder"
      ]
     },
     "execution_count": 14,
     "metadata": {},
     "output_type": "execute_result"
    }
   ],
   "source": [
    "df = pd.read_csv(\"labels.csv\")\n",
    "clean_df = process_df(df, clean_histograms)\n",
    "clean_df.head()"
   ]
  },
  {
   "cell_type": "code",
   "execution_count": 15,
   "id": "0cadb8ec",
   "metadata": {},
   "outputs": [
    {
     "data": {
      "text/html": [
       "<div>\n",
       "<style scoped>\n",
       "    .dataframe tbody tr th:only-of-type {\n",
       "        vertical-align: middle;\n",
       "    }\n",
       "\n",
       "    .dataframe tbody tr th {\n",
       "        vertical-align: top;\n",
       "    }\n",
       "\n",
       "    .dataframe thead th {\n",
       "        text-align: right;\n",
       "    }\n",
       "</style>\n",
       "<table border=\"1\" class=\"dataframe\">\n",
       "  <thead>\n",
       "    <tr style=\"text-align: right;\">\n",
       "      <th></th>\n",
       "      <th>model</th>\n",
       "      <th>type</th>\n",
       "    </tr>\n",
       "  </thead>\n",
       "  <tbody>\n",
       "    <tr>\n",
       "      <th>1</th>\n",
       "      <td>30a730ca-c466-4e8c-b00b-bf7b317495e2</td>\n",
       "      <td>Cone</td>\n",
       "    </tr>\n",
       "    <tr>\n",
       "      <th>7</th>\n",
       "      <td>1b220e0b-d7fa-40a0-8cfd-930a3228c668</td>\n",
       "      <td>Sphere</td>\n",
       "    </tr>\n",
       "    <tr>\n",
       "      <th>12</th>\n",
       "      <td>347130e7-e4ad-4714-a322-dadd515433f7</td>\n",
       "      <td>Torus</td>\n",
       "    </tr>\n",
       "    <tr>\n",
       "      <th>17</th>\n",
       "      <td>1346fe51-b6f1-4036-a2c4-cdf84abf6c85</td>\n",
       "      <td>Cone</td>\n",
       "    </tr>\n",
       "    <tr>\n",
       "      <th>19</th>\n",
       "      <td>1715abb8-f4e4-4eb3-a030-6c5b0083f1f0</td>\n",
       "      <td>Cylinder</td>\n",
       "    </tr>\n",
       "    <tr>\n",
       "      <th>...</th>\n",
       "      <td>...</td>\n",
       "      <td>...</td>\n",
       "    </tr>\n",
       "    <tr>\n",
       "      <th>9972</th>\n",
       "      <td>136a3a19-9b09-4e4b-8841-facf47b9abc5</td>\n",
       "      <td>Torus</td>\n",
       "    </tr>\n",
       "    <tr>\n",
       "      <th>9989</th>\n",
       "      <td>1e220704-e5d5-4596-864a-2fd3ab48fcbe</td>\n",
       "      <td>Sphere</td>\n",
       "    </tr>\n",
       "    <tr>\n",
       "      <th>9991</th>\n",
       "      <td>14ae3c6a-867e-4814-821b-1993979f4a23</td>\n",
       "      <td>Sphere</td>\n",
       "    </tr>\n",
       "    <tr>\n",
       "      <th>9992</th>\n",
       "      <td>222bdb7d-32e4-4499-988f-b91d0c7018c3</td>\n",
       "      <td>Cone</td>\n",
       "    </tr>\n",
       "    <tr>\n",
       "      <th>9996</th>\n",
       "      <td>255e1024-5967-4247-9de9-b595403f6bc5</td>\n",
       "      <td>Cone</td>\n",
       "    </tr>\n",
       "  </tbody>\n",
       "</table>\n",
       "<p>2137 rows × 2 columns</p>\n",
       "</div>"
      ],
      "text/plain": [
       "                                     model      type\n",
       "1     30a730ca-c466-4e8c-b00b-bf7b317495e2      Cone\n",
       "7     1b220e0b-d7fa-40a0-8cfd-930a3228c668    Sphere\n",
       "12    347130e7-e4ad-4714-a322-dadd515433f7     Torus\n",
       "17    1346fe51-b6f1-4036-a2c4-cdf84abf6c85      Cone\n",
       "19    1715abb8-f4e4-4eb3-a030-6c5b0083f1f0  Cylinder\n",
       "...                                    ...       ...\n",
       "9972  136a3a19-9b09-4e4b-8841-facf47b9abc5     Torus\n",
       "9989  1e220704-e5d5-4596-864a-2fd3ab48fcbe    Sphere\n",
       "9991  14ae3c6a-867e-4814-821b-1993979f4a23    Sphere\n",
       "9992  222bdb7d-32e4-4499-988f-b91d0c7018c3      Cone\n",
       "9996  255e1024-5967-4247-9de9-b595403f6bc5      Cone\n",
       "\n",
       "[2137 rows x 2 columns]"
      ]
     },
     "execution_count": 15,
     "metadata": {},
     "output_type": "execute_result"
    }
   ],
   "source": [
    "clean_df"
   ]
  },
  {
   "cell_type": "code",
   "execution_count": 16,
   "id": "0c5cadb8",
   "metadata": {},
   "outputs": [
    {
     "data": {
      "text/plain": [
       "array(['Cone', 'Sphere', 'Torus', 'Cylinder', 'Cube'], dtype=object)"
      ]
     },
     "execution_count": 16,
     "metadata": {},
     "output_type": "execute_result"
    }
   ],
   "source": [
    "clean_df.type.unique()"
   ]
  },
  {
   "cell_type": "code",
   "execution_count": 19,
   "id": "abfd9c1d",
   "metadata": {},
   "outputs": [],
   "source": [
    "clean_df.to_csv(\"labels_clean.csv\", index=False)"
   ]
  },
  {
   "cell_type": "code",
   "execution_count": null,
   "id": "0c9f97dd",
   "metadata": {},
   "outputs": [],
   "source": []
  }
 ],
 "metadata": {
  "kernelspec": {
   "display_name": "Python 3 (ipykernel)",
   "language": "python",
   "name": "python3"
  },
  "language_info": {
   "codemirror_mode": {
    "name": "ipython",
    "version": 3
   },
   "file_extension": ".py",
   "mimetype": "text/x-python",
   "name": "python",
   "nbconvert_exporter": "python",
   "pygments_lexer": "ipython3",
   "version": "3.8.12"
  }
 },
 "nbformat": 4,
 "nbformat_minor": 5
}
